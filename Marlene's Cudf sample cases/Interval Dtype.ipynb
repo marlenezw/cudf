{
 "cells": [
  {
   "cell_type": "code",
   "execution_count": null,
   "metadata": {},
   "outputs": [],
   "source": [
    "#here are some example cases for creating an interval list with pandas"
   ]
  },
  {
   "cell_type": "code",
   "execution_count": 1,
   "metadata": {},
   "outputs": [],
   "source": [
    "import pandas as pd\n",
    "import cudf\n",
    "import numpy as np"
   ]
  },
  {
   "cell_type": "code",
   "execution_count": null,
   "metadata": {},
   "outputs": [],
   "source": [
    "#the line below will give use a series made of an interval set of numbers"
   ]
  },
  {
   "cell_type": "code",
   "execution_count": 2,
   "metadata": {},
   "outputs": [
    {
     "data": {
      "text/plain": [
       "0    [1, 2)\n",
       "1    [3, 4)\n",
       "dtype: interval"
      ]
     },
     "execution_count": 2,
     "metadata": {},
     "output_type": "execute_result"
    }
   ],
   "source": [
    "pd.Series(([pd.Interval(1, 2, closed='left'),pd.Interval(3, 4, closed='left')]))"
   ]
  },
  {
   "cell_type": "code",
   "execution_count": null,
   "metadata": {},
   "outputs": [],
   "source": [
    "#the line below will give us a dataframe made of an interval set of numbers"
   ]
  },
  {
   "cell_type": "code",
   "execution_count": 7,
   "metadata": {},
   "outputs": [
    {
     "data": {
      "text/html": [
       "<div>\n",
       "<style scoped>\n",
       "    .dataframe tbody tr th:only-of-type {\n",
       "        vertical-align: middle;\n",
       "    }\n",
       "\n",
       "    .dataframe tbody tr th {\n",
       "        vertical-align: top;\n",
       "    }\n",
       "\n",
       "    .dataframe thead th {\n",
       "        text-align: right;\n",
       "    }\n",
       "</style>\n",
       "<table border=\"1\" class=\"dataframe\">\n",
       "  <thead>\n",
       "    <tr style=\"text-align: right;\">\n",
       "      <th></th>\n",
       "      <th>0</th>\n",
       "    </tr>\n",
       "  </thead>\n",
       "  <tbody>\n",
       "    <tr>\n",
       "      <th>0</th>\n",
       "      <td>[1, 2)</td>\n",
       "    </tr>\n",
       "    <tr>\n",
       "      <th>1</th>\n",
       "      <td>[3, 4)</td>\n",
       "    </tr>\n",
       "  </tbody>\n",
       "</table>\n",
       "</div>"
      ],
      "text/plain": [
       "        0\n",
       "0  [1, 2)\n",
       "1  [3, 4)"
      ]
     },
     "execution_count": 7,
     "metadata": {},
     "output_type": "execute_result"
    }
   ],
   "source": [
    "pd.DataFrame([pd.Interval(1, 2, closed='left'),pd.Interval(3, 4, closed='left')], dtype='interval')"
   ]
  },
  {
   "cell_type": "code",
   "execution_count": null,
   "metadata": {},
   "outputs": [],
   "source": [
    "#note that it only accepts two arguments for an interval dataframe.The intervals for the first column and then intervals for an index column, nothing more than that!"
   ]
  },
  {
   "cell_type": "code",
   "execution_count": null,
   "metadata": {},
   "outputs": [],
   "source": [
    "#lets now look at the interval index. An interval index is constructed by calling the interval_range method"
   ]
  },
  {
   "cell_type": "code",
   "execution_count": 8,
   "metadata": {},
   "outputs": [
    {
     "data": {
      "text/plain": [
       "IntervalIndex([(0, 1], (1, 2], (2, 3], (3, 4], (4, 5]],\n",
       "              closed='right',\n",
       "              dtype='interval[int64]')"
      ]
     },
     "execution_count": 8,
     "metadata": {},
     "output_type": "execute_result"
    }
   ],
   "source": [
    "pd.interval_range(start=0, end=5)"
   ]
  },
  {
   "cell_type": "code",
   "execution_count": null,
   "metadata": {},
   "outputs": [],
   "source": [
    "#you can get this array of intervals using interval array"
   ]
  },
  {
   "cell_type": "code",
   "execution_count": 10,
   "metadata": {},
   "outputs": [
    {
     "data": {
      "text/plain": [
       "<IntervalArray>\n",
       "[(0, 1], (1, 5]]\n",
       "Length: 2, closed: right, dtype: interval[int64]"
      ]
     },
     "execution_count": 10,
     "metadata": {},
     "output_type": "execute_result"
    }
   ],
   "source": [
    "pd.arrays.IntervalArray([pd.Interval(0, 1), pd.Interval(1, 5)])"
   ]
  },
  {
   "cell_type": "code",
   "execution_count": null,
   "metadata": {},
   "outputs": [],
   "source": [
    "#the below is used to create an interval index from the numbers in this set. Its used interval range "
   ]
  },
  {
   "cell_type": "code",
   "execution_count": 11,
   "metadata": {},
   "outputs": [
    {
     "data": {
      "text/plain": [
       "IntervalIndex([(0, 1], (1, 2], (2, 3], (3, 4], (4, 5]],\n",
       "              closed='right',\n",
       "              dtype='interval[int64]')"
      ]
     },
     "execution_count": 11,
     "metadata": {},
     "output_type": "execute_result"
    }
   ],
   "source": [
    "pd.IntervalIndex.from_breaks([0, 1, 2, 3, 4, 5])"
   ]
  },
  {
   "cell_type": "code",
   "execution_count": null,
   "metadata": {},
   "outputs": [],
   "source": [
    "#the intervalindex.from_breaks method actually calls the intervalarray.from_breaks method to work"
   ]
  },
  {
   "cell_type": "code",
   "execution_count": 12,
   "metadata": {},
   "outputs": [
    {
     "data": {
      "text/plain": [
       "<IntervalArray>\n",
       "[(0, 1], (1, 2], (2, 3], (3, 4], (4, 5]]\n",
       "Length: 5, closed: right, dtype: interval[int64]"
      ]
     },
     "execution_count": 12,
     "metadata": {},
     "output_type": "execute_result"
    }
   ],
   "source": [
    "pd.arrays.IntervalArray.from_breaks([0, 1, 2, 3, 4, 5])"
   ]
  },
  {
   "cell_type": "code",
   "execution_count": null,
   "metadata": {},
   "outputs": [],
   "source": [
    "#we want to use the interval index method in the cut method to create bins. \n",
    "#the cut method returns an interval index or an array of interval arrays where each interval array represents a bin"
   ]
  },
  {
   "cell_type": "code",
   "execution_count": 72,
   "metadata": {},
   "outputs": [
    {
     "data": {
      "text/plain": [
       "[(0.994, 4.0], (4.0, 7.0], (4.0, 7.0], (0.994, 4.0], (4.0, 7.0], (0.994, 4.0]]\n",
       "Categories (2, interval[float64]): [(0.994, 4.0] < (4.0, 7.0]]"
      ]
     },
     "execution_count": 72,
     "metadata": {},
     "output_type": "execute_result"
    }
   ],
   "source": [
    "pd.cut(np.array([1, 7, 5, 4, 6, 3]), 2)"
   ]
  },
  {
   "cell_type": "code",
   "execution_count": null,
   "metadata": {},
   "outputs": [],
   "source": [
    "#it looks like for the frequency you take the (higest number-lowest number)/(int, which is the number if bins)"
   ]
  },
  {
   "cell_type": "code",
   "execution_count": 76,
   "metadata": {},
   "outputs": [
    {
     "data": {
      "text/plain": [
       "IntervalIndex([(1.0, 4.0], (4.0, 7.0]],\n",
       "              closed='right',\n",
       "              dtype='interval[float64]')"
      ]
     },
     "execution_count": 76,
     "metadata": {},
     "output_type": "execute_result"
    }
   ],
   "source": [
    "pd.interval_range(start=1, end=7, freq=6/2)        "
   ]
  },
  {
   "cell_type": "code",
   "execution_count": null,
   "metadata": {},
   "outputs": [],
   "source": [
    "#note a closed set [] is inclusive of its end points, an open set () is not inclusive of its boundaries \n",
    "#therefore (5.0, 7.0] is a set from 5 to 7, but does not include 5 and includes 7, therfore 7 would be in this bin\n",
    "# (3.0, 5.0] is a set that does not include 3 but includes 5, therefore 5 would be in this bin\n",
    "\n",
    "#the above sets from the cut example are. Note the first number is basically starting at 1 but removing 0.1% from it so that the set can include the number 1\n",
    "# (0.994,3.0], (3.0,5.0], (5.0,7.0]"
   ]
  },
  {
   "cell_type": "code",
   "execution_count": 31,
   "metadata": {},
   "outputs": [
    {
     "data": {
      "text/plain": [
       "array([1., 4., 7.])"
      ]
     },
     "execution_count": 31,
     "metadata": {},
     "output_type": "execute_result"
    }
   ],
   "source": [
    "np.linspace(1,7,3)"
   ]
  },
  {
   "cell_type": "code",
   "execution_count": null,
   "metadata": {},
   "outputs": [],
   "source": [
    "#So it looks like the first thing we need to do is create the interval_range method\n",
    "#this method takes a start and end paramenter that signify where the first array will begin \n",
    "#and then where the last array will end. \n",
    "#the frequency paramenter signifies what amount to increment each array by\n",
    "#"
   ]
  },
  {
   "cell_type": "code",
   "execution_count": 104,
   "metadata": {},
   "outputs": [
    {
     "name": "stdout",
     "output_type": "stream",
     "text": [
      "<IntervalArray>\n",
      "[(0, 2], (2, 4]]\n",
      "Length: 2, closed: right, dtype: interval[int64]\n",
      "right\n",
      "interval[int64]\n",
      "{'_left': Int64Index([0, 2], dtype='int64'), '_right': Int64Index([2, 4], dtype='int64'), '_closed': 'right'}\n"
     ]
    }
   ],
   "source": [
    "arr = []\n",
    "init = 0 #start\n",
    "freq = 2 #freq if other than 1\n",
    "sf = 0+2 #start+freq\n",
    "ef = 5+1 #end + 1\n",
    "#range(start+freq, end+1,freq)\n",
    "for i in range(sf,ef,freq):\n",
    "    set_arr = pd.Interval(init,i)\n",
    "    arr.append(set_arr)\n",
    "    init = i\n",
    "    \n",
    "new_arr = pd.arrays.IntervalArray(arr)\n",
    "print(new_arr)\n",
    "print(new_arr.closed)\n",
    "print(new_arr.dtype)\n",
    "print(new_arr.__dict__)"
   ]
  },
  {
   "cell_type": "code",
   "execution_count": 87,
   "metadata": {},
   "outputs": [
    {
     "data": {
      "text/plain": [
       "IntervalIndex([(0, 2], (2, 4]],\n",
       "              closed='right',\n",
       "              dtype='interval[int64]')"
      ]
     },
     "execution_count": 87,
     "metadata": {},
     "output_type": "execute_result"
    }
   ],
   "source": [
    "pd.interval_range(start=0, end=5, freq=2)"
   ]
  },
  {
   "cell_type": "code",
   "execution_count": 107,
   "metadata": {},
   "outputs": [
    {
     "data": {
      "text/plain": [
       "<IntervalArray>\n",
       "[(0, 2], (2, 4]]\n",
       "Length: 2, closed: right, dtype: interval[int64]"
      ]
     },
     "execution_count": 107,
     "metadata": {},
     "output_type": "execute_result"
    }
   ],
   "source": [
    "pd.arrays.IntervalArray.from_breaks([i for i in range(0,6,2)])\n",
    "# pd.arrays.IntervalArray.from_breaks([0, 1, 2, 3])"
   ]
  },
  {
   "cell_type": "code",
   "execution_count": null,
   "metadata": {},
   "outputs": [],
   "source": [
    "#Lets looks at Interval Index next, these are the examples that have worked\n"
   ]
  },
  {
   "cell_type": "code",
   "execution_count": null,
   "metadata": {},
   "outputs": [],
   "source": [
    "In [1]: import cudf\n",
    "\n",
    "In [2]: import pandas as pd\n",
    "\n",
    "In [3]: g = cudf.IntervalIndex([pd.Interval(1, 2, closed='left'),pd.Interval(3, 4, closed='left')])\n",
    "\n",
    "In [4]: g\n",
    "Out[4]: \n",
    "IntervalIndex([[1, 2), [3, 4)],\n",
    "              closed='left',\n",
    "              dtype='interval')\n",
    "\n",
    "In [5]: pd.IntervalIndex([pd.Interval(1, 2, closed='left'),pd.Interval(3, 4, closed='left')])\n",
    "Out[5]: \n",
    "IntervalIndex([[1, 2), [3, 4)],\n",
    "              closed='left',\n",
    "              dtype='interval[int64]')\n",
    "\n",
    "In [6]: cudf.interval_range(0,5)\n",
    "Out[6]: \n",
    "IntervalIndex([(0, 1], (1, 2], (2, 3], (3, 4], (4, 5]],\n",
    "              closed='right',\n",
    "              dtype='interval')\n",
    "\n",
    "In [7]: pd.interval_range(0,5)\n",
    "Out[7]: \n",
    "IntervalIndex([(0, 1], (1, 2], (2, 3], (3, 4], (4, 5]],\n",
    "              closed='right',\n",
    "              dtype='interval[int64]')"
   ]
  }
 ],
 "metadata": {
  "kernelspec": {
   "display_name": "Python 3",
   "language": "python",
   "name": "python3"
  },
  "language_info": {
   "codemirror_mode": {
    "name": "ipython",
    "version": 3
   },
   "file_extension": ".py",
   "mimetype": "text/x-python",
   "name": "python",
   "nbconvert_exporter": "python",
   "pygments_lexer": "ipython3",
   "version": "3.7.8"
  }
 },
 "nbformat": 4,
 "nbformat_minor": 4
}
